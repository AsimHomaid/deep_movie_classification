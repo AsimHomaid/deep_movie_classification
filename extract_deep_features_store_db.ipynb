{
 "cells": [
  {
   "cell_type": "code",
   "execution_count": null,
   "metadata": {},
   "outputs": [],
   "source": [
    "import tensorflow as tf\n",
    "import pandas as pd\n",
    "import glob\n",
    "import cv2\n",
    "import numpy as np\n",
    "import pymongo"
   ]
  },
  {
   "cell_type": "code",
   "execution_count": null,
   "metadata": {},
   "outputs": [],
   "source": [
    "from keras.applications.inception_v3 import InceptionV3"
   ]
  },
  {
   "cell_type": "markdown",
   "metadata": {},
   "source": [
    "### open databes and set a collection to store features and labels in"
   ]
  },
  {
   "cell_type": "code",
   "execution_count": null,
   "metadata": {},
   "outputs": [],
   "source": [
    "mc = pymongo.MongoClient()\n",
    "db = mc['model']\n",
    "deep_features_db = db['labels_deep_features']"
   ]
  },
  {
   "cell_type": "markdown",
   "metadata": {},
   "source": [
    "## import labels csv and set neural network parameters"
   ]
  },
  {
   "cell_type": "code",
   "execution_count": null,
   "metadata": {},
   "outputs": [],
   "source": [
    "model = InceptionV3(include_top=False, weights='imagenet', input_shape=(299,299,3), pooling='avg')"
   ]
  },
  {
   "cell_type": "code",
   "execution_count": null,
   "metadata": {},
   "outputs": [],
   "source": [
    "df = pd.read_csv('movie_genre_matrix.csv')"
   ]
  },
  {
   "cell_type": "code",
   "execution_count": null,
   "metadata": {},
   "outputs": [],
   "source": [
    "#takes movie_title, sets a list of strings with all file names, then returns a numpy array version\n",
    "def png_to_numpy(movie_name):\n",
    "    movie_file_strings = glob.glob(f'trailer_test/{movie_name}*.png')\n",
    "    movie_file_strings.sort()\n",
    "    movie_file_strings = movie_file_strings[len(movie_file_strings)//3:-len(movie_file_strings)//3]\n",
    "    \n",
    "    return [cv2.imread(movie) for movie in movie_file_strings]\n",
    "    "
   ]
  },
  {
   "cell_type": "code",
   "execution_count": null,
   "metadata": {},
   "outputs": [],
   "source": [
    "#input one frame at a time, run it through a neural network, return back 2048 deep features\n",
    "def get_deep_features(frame):\n",
    "    prediction = model.predict(frame.reshape((-1, 299, 299, 3)))\n",
    "    return prediction"
   ]
  },
  {
   "cell_type": "code",
   "execution_count": null,
   "metadata": {},
   "outputs": [],
   "source": [
    "#one dataframe as argument, get all frames by title, extract features. store them in mongodb with their labels\n",
    "def store_deep_features(movie_df):\n",
    "    movie_list = movie_df['movie_title']\n",
    "    \n",
    "    for movie in movie_list:\n",
    "        frame_id =  0\n",
    "        movie_labels = movie_df[movie_df['movie_title'] == movie].to_dict('records')[0]\n",
    "        movie_frames = png_to_numpy(movie)\n",
    "        for frame in movie_frames:\n",
    "            frame_id += 1\n",
    "            deep_features = get_deep_features(frame)[0].tolist()\n",
    "            features_dict = {str(i): feature for i, feature in enumerate(deep_features)}\n",
    "            \n",
    "            final_dict = {**movie_labels, **features_dict, 'frame_id': movie+\"_\"+str(frame_id)}\n",
    "            \n",
    "            deep_features_db.insert_one(final_dict)"
   ]
  },
  {
   "cell_type": "markdown",
   "metadata": {},
   "source": [
    "## run single function to extract and store deep features in mongodb"
   ]
  },
  {
   "cell_type": "code",
   "execution_count": null,
   "metadata": {},
   "outputs": [],
   "source": [
    "store_deep_features(df)"
   ]
  }
 ],
 "metadata": {
  "kernelspec": {
   "display_name": "Python 3",
   "language": "python",
   "name": "python3"
  },
  "language_info": {
   "codemirror_mode": {
    "name": "ipython",
    "version": 3
   },
   "file_extension": ".py",
   "mimetype": "text/x-python",
   "name": "python",
   "nbconvert_exporter": "python",
   "pygments_lexer": "ipython3",
   "version": "3.7.3"
  }
 },
 "nbformat": 4,
 "nbformat_minor": 2
}

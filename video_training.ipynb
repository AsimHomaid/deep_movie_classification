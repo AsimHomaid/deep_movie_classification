{
 "cells": [
  {
   "cell_type": "code",
   "execution_count": null,
   "metadata": {},
   "outputs": [],
   "source": [
    "import tensorflow as tf\n",
    "import pandas as pd\n",
    "import glob\n",
    "import cv2\n",
    "import numpy as np"
   ]
  },
  {
   "cell_type": "code",
   "execution_count": null,
   "metadata": {},
   "outputs": [],
   "source": [
    "from keras.applications.inception_v3 import InceptionV3"
   ]
  },
  {
   "cell_type": "code",
   "execution_count": null,
   "metadata": {
    "scrolled": true
   },
   "outputs": [],
   "source": [
    "model = InceptionV3(include_top=False, weights='imagenet', input_shape=(299,299,3), pooling='avg')"
   ]
  },
  {
   "cell_type": "code",
   "execution_count": null,
   "metadata": {},
   "outputs": [],
   "source": [
    "df = pd.read_csv('movie_genre_matrix.csv')"
   ]
  },
  {
   "cell_type": "code",
   "execution_count": null,
   "metadata": {},
   "outputs": [],
   "source": [
    "def png_to_numpy(movie_name):\n",
    "    movie_file_strings = glob.glob(f'trailer_test/{movie_name}*.png')\n",
    "    return [(movie_name, cv2.imread(movie)) for movie in movie_file_strings]\n",
    "    "
   ]
  },
  {
   "cell_type": "code",
   "execution_count": null,
   "metadata": {},
   "outputs": [],
   "source": [
    "def create_movie_df(list_of_movies):\n",
    "    \n",
    "    movie_titles = []\n",
    "    frames = []\n",
    "    for movie in list_of_movies:\n",
    "        for movie_title, frame in png_to_numpy(movie):\n",
    "            movie_titles.append(movie_title)\n",
    "            frames.append(frame)\n",
    "    \n",
    "    dict_of_numpys = {'movie_title': movie_titles, 'frames': frames}\n",
    "    df_numpy = pd.DataFrame(dict_of_numpys)\n",
    "    df_numpy = pd.merge(df_numpy, df, on='movie_title')\n",
    "    return df_numpy\n",
    "        "
   ]
  },
  {
   "cell_type": "code",
   "execution_count": null,
   "metadata": {},
   "outputs": [],
   "source": [
    "def get_deep_features(frame):\n",
    "    prediction = model.predict(frame.reshape((-1, 299, 299, 3)))\n",
    "    return prediction"
   ]
  },
  {
   "cell_type": "code",
   "execution_count": null,
   "metadata": {},
   "outputs": [],
   "source": [
    "get_deep_features_for_multiple_frames = lambda frames: np.vstack([get_deep_features(frame) for frame in frames])"
   ]
  },
  {
   "cell_type": "code",
   "execution_count": null,
   "metadata": {},
   "outputs": [],
   "source": [
    "labels_and_featuers = pd.concat([movie_train_no_frames, predictions_df], axis=1)"
   ]
  },
  {
   "cell_type": "code",
   "execution_count": null,
   "metadata": {},
   "outputs": [],
   "source": [
    "def split_by_movie(df, test_percentage):\n",
    "    movie_titles = df['movie_title'].unique()\n",
    "    test_titles = np.random.choice(movie_titles, size=int(len(movie_titles)//test_percentage), replace=False)\n",
    "\n",
    "    test_df = df[df['movie_title'].isin(test_titles)]\n",
    "    train_df = df[~df['movie_title'].isin(test_titles)]\n",
    "    \n",
    "    genres = df.columns[1:27]\n",
    "    features_movie_title = df.columns.drop(genres)\n",
    "    \n",
    "    \n",
    "    #X_train, X_test, y_train, y_test \n",
    "    return train_df[features_movie_title], test_df[features_movie_title], train_df[genres], test_df[genres]"
   ]
  },
  {
   "cell_type": "code",
   "execution_count": null,
   "metadata": {},
   "outputs": [],
   "source": [
    "X_train, X_test, y_train, y_test = split_by_movie(labels_and_featuers, 10)"
   ]
  },
  {
   "cell_type": "code",
   "execution_count": null,
   "metadata": {},
   "outputs": [],
   "source": [
    "from sklearn.ensemble import RandomForestClassifier"
   ]
  },
  {
   "cell_type": "code",
   "execution_count": null,
   "metadata": {},
   "outputs": [],
   "source": [
    "rfc = RandomForestClassifier()"
   ]
  },
  {
   "cell_type": "code",
   "execution_count": null,
   "metadata": {},
   "outputs": [],
   "source": [
    "rfc.fit(X_train, y_train)"
   ]
  },
  {
   "cell_type": "code",
   "execution_count": null,
   "metadata": {},
   "outputs": [],
   "source": []
  },
  {
   "cell_type": "code",
   "execution_count": null,
   "metadata": {},
   "outputs": [],
   "source": [
    "from sklearn.metrics import classification_report"
   ]
  },
  {
   "cell_type": "code",
   "execution_count": null,
   "metadata": {},
   "outputs": [],
   "source": []
  }
 ],
 "metadata": {
  "kernelspec": {
   "display_name": "Python 3",
   "language": "python",
   "name": "python3"
  },
  "language_info": {
   "codemirror_mode": {
    "name": "ipython",
    "version": 3
   },
   "file_extension": ".py",
   "mimetype": "text/x-python",
   "name": "python",
   "nbconvert_exporter": "python",
   "pygments_lexer": "ipython3",
   "version": "3.7.3"
  }
 },
 "nbformat": 4,
 "nbformat_minor": 2
}

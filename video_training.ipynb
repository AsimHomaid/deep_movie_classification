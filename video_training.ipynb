{
 "cells": [
  {
   "cell_type": "code",
   "execution_count": 1,
   "metadata": {},
   "outputs": [],
   "source": [
    "import tensorflow as tf\n",
    "import pandas as pd\n",
    "import glob\n",
    "import cv2\n",
    "import numpy as np\n",
    "import pymongo"
   ]
  },
  {
   "cell_type": "code",
   "execution_count": null,
   "metadata": {},
   "outputs": [],
   "source": [
    "from keras.applications.inception_v3 import InceptionV3"
   ]
  },
  {
   "cell_type": "code",
   "execution_count": 3,
   "metadata": {},
   "outputs": [],
   "source": [
    "mc = pymongo.MongoClient()"
   ]
  },
  {
   "cell_type": "code",
   "execution_count": 4,
   "metadata": {},
   "outputs": [],
   "source": [
    "db = mc['model']"
   ]
  },
  {
   "cell_type": "code",
   "execution_count": 5,
   "metadata": {},
   "outputs": [],
   "source": [
    "deep_features_db = db['labels_deep_features']"
   ]
  },
  {
   "cell_type": "code",
   "execution_count": 6,
   "metadata": {},
   "outputs": [],
   "source": [
    "n_frames = deep_features_db.count_documents({})"
   ]
  },
  {
   "cell_type": "code",
   "execution_count": null,
   "metadata": {},
   "outputs": [],
   "source": [
    "db.collection_names()"
   ]
  },
  {
   "cell_type": "code",
   "execution_count": null,
   "metadata": {
    "scrolled": true
   },
   "outputs": [],
   "source": [
    "model = InceptionV3(include_top=False, weights='imagenet', input_shape=(299,299,3), pooling='avg')"
   ]
  },
  {
   "cell_type": "code",
   "execution_count": null,
   "metadata": {},
   "outputs": [],
   "source": [
    "df = pd.read_csv('movie_genre_matrix.csv')"
   ]
  },
  {
   "cell_type": "code",
   "execution_count": null,
   "metadata": {},
   "outputs": [],
   "source": [
    "def png_to_numpy(movie_name):\n",
    "    movie_file_strings = glob.glob(f'trailer_test/{movie_name}*.png')\n",
    "    movie_file_strings.sort()\n",
    "    movie_file_strings = movie_file_strings[len(movie_file_strings)//3:-len(movie_file_strings)//3]\n",
    "    \n",
    "    return [cv2.imread(movie) for movie in movie_file_strings]\n",
    "    "
   ]
  },
  {
   "cell_type": "code",
   "execution_count": null,
   "metadata": {},
   "outputs": [],
   "source": [
    "def create_movie_df(list_of_movies):\n",
    "    \n",
    "    movie_titles = []\n",
    "    frames = []\n",
    "    for movie in list_of_movies:\n",
    "        for movie_title, frame in png_to_numpy(movie):\n",
    "            movie_titles.append(movie_title)\n",
    "            frames.append(frame)\n",
    "    \n",
    "    dict_of_numpys = {'movie_title': movie_titles, 'frames': frames}\n",
    "    df_numpy = pd.DataFrame(dict_of_numpys)\n",
    "    df_numpy = pd.merge(df_numpy, df, on='movie_title')\n",
    "    return df_numpy\n",
    "        "
   ]
  },
  {
   "cell_type": "code",
   "execution_count": null,
   "metadata": {},
   "outputs": [],
   "source": [
    "def get_deep_features(frame):\n",
    "    prediction = model.predict(frame.reshape((-1, 299, 299, 3)))\n",
    "    return prediction"
   ]
  },
  {
   "cell_type": "code",
   "execution_count": null,
   "metadata": {},
   "outputs": [],
   "source": [
    "def store_deep_features(movie_df):\n",
    "    movie_list = movie_df['movie_title']\n",
    "    \n",
    "    for movie in movie_list:\n",
    "        frame_id =  0\n",
    "        movie_labels = movie_df[movie_df['movie_title'] == movie].to_dict('records')[0]\n",
    "        movie_frames = png_to_numpy(movie)\n",
    "        for frame in movie_frames:\n",
    "            frame_id += 1\n",
    "            deep_features = get_deep_features(frame)[0].tolist()\n",
    "            features_dict = {str(i): feature for i, feature in enumerate(deep_features)}\n",
    "            \n",
    "            final_dict = {**movie_labels, **features_dict, 'frame_id': movie+\"_\"+str(frame_id)}\n",
    "            \n",
    "            deep_features_db.insert_one(final_dict)"
   ]
  },
  {
   "cell_type": "code",
   "execution_count": null,
   "metadata": {},
   "outputs": [],
   "source": [
    "store_deep_features(df)"
   ]
  },
  {
   "cell_type": "code",
   "execution_count": null,
   "metadata": {},
   "outputs": [],
   "source": [
    "new_df = pd.DataFrame(list(deep_features_db.find().limit(100)))"
   ]
  },
  {
   "cell_type": "code",
   "execution_count": null,
   "metadata": {},
   "outputs": [],
   "source": [
    "new_df.shape"
   ]
  },
  {
   "cell_type": "code",
   "execution_count": null,
   "metadata": {},
   "outputs": [],
   "source": [
    "    "
   ]
  },
  {
   "cell_type": "code",
   "execution_count": 7,
   "metadata": {},
   "outputs": [],
   "source": [
    "genres = ['Action', 'Adventure', 'Animation', 'Biography', 'Comedy', 'Crime', 'Documentary', 'Drama', 'Family', 'Fantasy', 'Film-Noir','Game-Show','History','Horror','Music','Musical','Mystery','News','Reality-TV','Romance','Sci-Fi','Short','Sport','Thriller','War','Western']"
   ]
  },
  {
   "cell_type": "code",
   "execution_count": 8,
   "metadata": {},
   "outputs": [],
   "source": [
    "feature_ids = [str(i) for i in range(2048)]"
   ]
  },
  {
   "cell_type": "code",
   "execution_count": 9,
   "metadata": {},
   "outputs": [],
   "source": [
    "frame_ids = np.empty(shape=(n_frames,), dtype=np.object)"
   ]
  },
  {
   "cell_type": "code",
   "execution_count": 10,
   "metadata": {},
   "outputs": [],
   "source": [
    "frame_features = np.empty(shape=(n_frames, 2048), dtype=np.float32)"
   ]
  },
  {
   "cell_type": "code",
   "execution_count": 11,
   "metadata": {},
   "outputs": [],
   "source": [
    "frame_genres = np.empty(shape=(n_frames, len(genres)), dtype=np.uint8)"
   ]
  },
  {
   "cell_type": "code",
   "execution_count": 12,
   "metadata": {},
   "outputs": [],
   "source": [
    "for i, row in enumerate(deep_features_db.find({})):\n",
    "    for feature_id in feature_ids:\n",
    "        frame_features[i, int(feature_id)] = row[feature_id]\n",
    "    frame_ids[i] = row['frame_id']\n",
    "    for j, genre in enumerate(genres):\n",
    "        frame_genres[i, j] = row[genre]"
   ]
  },
  {
   "cell_type": "code",
   "execution_count": 14,
   "metadata": {},
   "outputs": [],
   "source": [
    "def split_by_movie(frame_ids, frame_features, frame_genres, train_pct=0.8, limit=None):\n",
    "    n = len(frame_ids)\n",
    "    frame_titles = np.array([frame_id.partition('_')[0] for frame_id in frame_ids], dtype=np.object)\n",
    "\n",
    "    movie_titles = np.array(list(set(frame_titles)))\n",
    "    movie_titles\n",
    "    np.random.shuffle(movie_titles)\n",
    "\n",
    "    train_limit = int(len(movie_titles)*train_pct)\n",
    "\n",
    "    train_titles = movie_titles[:train_limit]\n",
    "    test_titles = movie_titles[train_limit:]\n",
    "\n",
    "    test_mask = np.isin(frame_titles, test_titles)\n",
    "    train_mask = ~test_mask\n",
    "    \n",
    "    if limit is not None:\n",
    "        idxs = np.arange(n)\n",
    "        np.random.shuffle(idxs)\n",
    "        keep_idxs = idxs[:limit]\n",
    "        keep_mask = np.zeros(n, dtype=bool)\n",
    "        keep_mask[keep_idxs] = True\n",
    "        test_mask = test_mask & keep_mask\n",
    "        train_mask = train_mask & keep_mask\n",
    "\n",
    "    X_train = frame_features[train_mask, :]\n",
    "    y_train = frame_genres[train_mask, :]\n",
    "    X_test = frame_features[test_mask, :]\n",
    "    y_test = frame_genres[test_mask, :]\n",
    "    \n",
    "    return X_train, X_test, y_train, y_test"
   ]
  },
  {
   "cell_type": "code",
   "execution_count": 15,
   "metadata": {},
   "outputs": [],
   "source": [
    "X_train, X_test, y_train, y_test = split_by_movie(frame_ids, \n",
    "                                                  frame_features,\n",
    "                                                  frame_genres,\n",
    "                                                  train_pct=0.8,\n",
    "                                                  )"
   ]
  },
  {
   "cell_type": "code",
   "execution_count": null,
   "metadata": {},
   "outputs": [],
   "source": [
    "from sklearn.ensemble import RandomForestClassifier"
   ]
  },
  {
   "cell_type": "code",
   "execution_count": null,
   "metadata": {},
   "outputs": [],
   "source": [
    "rfc = RandomForestClassifier(n_jobs=-1)"
   ]
  },
  {
   "cell_type": "code",
   "execution_count": null,
   "metadata": {},
   "outputs": [],
   "source": []
  },
  {
   "cell_type": "code",
   "execution_count": null,
   "metadata": {},
   "outputs": [],
   "source": [
    "rfc.fit(X_train, y_train)"
   ]
  },
  {
   "cell_type": "code",
   "execution_count": null,
   "metadata": {},
   "outputs": [],
   "source": [
    "from sklearn.metrics import classification_report, roc_curve, roc_auc_score"
   ]
  },
  {
   "cell_type": "code",
   "execution_count": null,
   "metadata": {},
   "outputs": [],
   "source": [
    "print(classification_report(y_test, rfc.predict(X_test)))"
   ]
  },
  {
   "cell_type": "code",
   "execution_count": null,
   "metadata": {},
   "outputs": [],
   "source": [
    "import matplotlib.pyplot as plt"
   ]
  },
  {
   "cell_type": "code",
   "execution_count": null,
   "metadata": {},
   "outputs": [],
   "source": [
    "x, y, _ = roc_curve(y_test[:,0], lr.predict_proba(X_test)[:,1])"
   ]
  },
  {
   "cell_type": "code",
   "execution_count": null,
   "metadata": {},
   "outputs": [],
   "source": [
    "roc_auc_score(y_test[:,0], lr.predict_proba(X_test)[:,1])"
   ]
  },
  {
   "cell_type": "code",
   "execution_count": null,
   "metadata": {},
   "outputs": [],
   "source": [
    "roc_auc_score(y_train[:,0], lr.predict_proba(X_train)[:,1])"
   ]
  },
  {
   "cell_type": "code",
   "execution_count": null,
   "metadata": {},
   "outputs": [],
   "source": [
    "fig, ax = plt.subplots()\n",
    "ax.plot(x, y)\n",
    "\n",
    "line_x = np.linspace(0,1)\n",
    "line_y = line_x\n",
    "ax.plot(line_x, line_y)"
   ]
  },
  {
   "cell_type": "code",
   "execution_count": 16,
   "metadata": {},
   "outputs": [],
   "source": [
    "list_of_titles = [frame_id.partition('_')[0] for frame_id in frame_ids]"
   ]
  },
  {
   "cell_type": "code",
   "execution_count": 17,
   "metadata": {},
   "outputs": [],
   "source": [
    "df = pd.DataFrame({'title': list_of_titles})"
   ]
  },
  {
   "cell_type": "code",
   "execution_count": null,
   "metadata": {},
   "outputs": [],
   "source": [
    "df['title'].value_counts().hist(bins=20)"
   ]
  },
  {
   "cell_type": "code",
   "execution_count": 18,
   "metadata": {},
   "outputs": [
    {
     "data": {
      "text/plain": [
       "'Harry Potter and the Prisoner of Azkaban'"
      ]
     },
     "execution_count": 18,
     "metadata": {},
     "output_type": "execute_result"
    }
   ],
   "source": [
    "df['title'][8453]"
   ]
  },
  {
   "cell_type": "code",
   "execution_count": 19,
   "metadata": {},
   "outputs": [],
   "source": [
    "img = cv2.imread('trailer_test/Harry Potter and the Prisoner of Azkaban0083.png')"
   ]
  },
  {
   "cell_type": "code",
   "execution_count": null,
   "metadata": {},
   "outputs": [],
   "source": [
    "cv2.imshow('ImageWindow', img)\n",
    "cv2.waitKey()"
   ]
  },
  {
   "cell_type": "code",
   "execution_count": null,
   "metadata": {},
   "outputs": [],
   "source": []
  }
 ],
 "metadata": {
  "kernelspec": {
   "display_name": "Python 3",
   "language": "python",
   "name": "python3"
  },
  "language_info": {
   "codemirror_mode": {
    "name": "ipython",
    "version": 3
   },
   "file_extension": ".py",
   "mimetype": "text/x-python",
   "name": "python",
   "nbconvert_exporter": "python",
   "pygments_lexer": "ipython3",
   "version": "3.7.3"
  }
 },
 "nbformat": 4,
 "nbformat_minor": 2
}

{
 "cells": [
  {
   "cell_type": "code",
   "execution_count": 1,
   "metadata": {},
   "outputs": [],
   "source": [
    "import tensorflow as tf\n",
    "import pandas as pd\n",
    "import glob\n",
    "import cv2\n",
    "import numpy as np\n",
    "import pymongo"
   ]
  },
  {
   "cell_type": "code",
   "execution_count": 2,
   "metadata": {},
   "outputs": [
    {
     "name": "stderr",
     "output_type": "stream",
     "text": [
      "Using TensorFlow backend.\n"
     ]
    }
   ],
   "source": [
    "from keras.applications.inception_v3 import InceptionV3"
   ]
  },
  {
   "cell_type": "code",
   "execution_count": 3,
   "metadata": {},
   "outputs": [],
   "source": [
    "mc = pymongo.MongoClient()"
   ]
  },
  {
   "cell_type": "code",
   "execution_count": 4,
   "metadata": {},
   "outputs": [],
   "source": [
    "db = mc['model']"
   ]
  },
  {
   "cell_type": "code",
   "execution_count": 5,
   "metadata": {},
   "outputs": [],
   "source": [
    "deep_features_db = db['labels_deep_features']"
   ]
  },
  {
   "cell_type": "code",
   "execution_count": null,
   "metadata": {},
   "outputs": [],
   "source": [
    "deep_features_db"
   ]
  },
  {
   "cell_type": "code",
   "execution_count": null,
   "metadata": {},
   "outputs": [],
   "source": [
    "db.collection_names()"
   ]
  },
  {
   "cell_type": "code",
   "execution_count": null,
   "metadata": {},
   "outputs": [],
   "source": [
    "#deep_features_db.delete_many({})"
   ]
  },
  {
   "cell_type": "code",
   "execution_count": null,
   "metadata": {
    "scrolled": true
   },
   "outputs": [],
   "source": [
    "model = InceptionV3(include_top=False, weights='imagenet', input_shape=(299,299,3), pooling='avg')"
   ]
  },
  {
   "cell_type": "code",
   "execution_count": null,
   "metadata": {},
   "outputs": [],
   "source": [
    "df = pd.read_csv('movie_genre_matrix.csv')"
   ]
  },
  {
   "cell_type": "code",
   "execution_count": null,
   "metadata": {},
   "outputs": [],
   "source": [
    "def png_to_numpy(movie_name):\n",
    "    movie_file_strings = glob.glob(f'trailer_test/{movie_name}*.png')\n",
    "    movie_file_strings.sort()\n",
    "    movie_file_strings = movie_file_strings[len(movie_file_strings)//3:-len(movie_file_strings)//3]\n",
    "    \n",
    "    return [cv2.imread(movie) for movie in movie_file_strings]\n",
    "    "
   ]
  },
  {
   "cell_type": "code",
   "execution_count": null,
   "metadata": {},
   "outputs": [],
   "source": [
    "def create_movie_df(list_of_movies):\n",
    "    \n",
    "    movie_titles = []\n",
    "    frames = []\n",
    "    for movie in list_of_movies:\n",
    "        for movie_title, frame in png_to_numpy(movie):\n",
    "            movie_titles.append(movie_title)\n",
    "            frames.append(frame)\n",
    "    \n",
    "    dict_of_numpys = {'movie_title': movie_titles, 'frames': frames}\n",
    "    df_numpy = pd.DataFrame(dict_of_numpys)\n",
    "    df_numpy = pd.merge(df_numpy, df, on='movie_title')\n",
    "    return df_numpy\n",
    "        "
   ]
  },
  {
   "cell_type": "code",
   "execution_count": null,
   "metadata": {},
   "outputs": [],
   "source": [
    "def get_deep_features(frame):\n",
    "    prediction = model.predict(frame.reshape((-1, 299, 299, 3)))\n",
    "    return prediction"
   ]
  },
  {
   "cell_type": "code",
   "execution_count": null,
   "metadata": {},
   "outputs": [],
   "source": [
    "def store_deep_features(movie_df):\n",
    "    movie_list = movie_df['movie_title']\n",
    "    \n",
    "    for movie in movie_list:\n",
    "        frame_id =  0\n",
    "        movie_labels = movie_df[movie_df['movie_title'] == movie].to_dict('records')[0]\n",
    "        movie_frames = png_to_numpy(movie)\n",
    "        for frame in movie_frames:\n",
    "            frame_id += 1\n",
    "            deep_features = get_deep_features(frame)[0].tolist()\n",
    "            features_dict = {str(i): feature for i, feature in enumerate(deep_features)}\n",
    "            \n",
    "            final_dict = {**movie_labels, **features_dict, 'frame_id': movie+\"_\"+str(frame_id)}\n",
    "            \n",
    "            deep_features_db.insert_one(final_dict)"
   ]
  },
  {
   "cell_type": "code",
   "execution_count": null,
   "metadata": {},
   "outputs": [],
   "source": [
    "store_deep_features(df)"
   ]
  },
  {
   "cell_type": "code",
   "execution_count": null,
   "metadata": {},
   "outputs": [],
   "source": [
    "new_df = pd.DataFrame(list(deep_features_db.find()))"
   ]
  },
  {
   "cell_type": "code",
   "execution_count": null,
   "metadata": {},
   "outputs": [],
   "source": [
    "new_df.shape"
   ]
  },
  {
   "cell_type": "code",
   "execution_count": null,
   "metadata": {},
   "outputs": [],
   "source": [
    "png_to_numpy(df['movie_title'][0])"
   ]
  },
  {
   "cell_type": "code",
   "execution_count": null,
   "metadata": {},
   "outputs": [],
   "source": [
    "get_deep_features_for_multiple_frames = lambda frames: np.vstack([get_deep_features(frame) for frame in frames])"
   ]
  },
  {
   "cell_type": "code",
   "execution_count": null,
   "metadata": {},
   "outputs": [],
   "source": [
    "labels_and_featuers = pd.concat([movie_train_no_frames, predictions_df], axis=1)"
   ]
  },
  {
   "cell_type": "code",
   "execution_count": null,
   "metadata": {},
   "outputs": [],
   "source": [
    "def split_by_movie(df, test_percentage):\n",
    "    movie_titles = df['movie_title'].unique()\n",
    "    test_titles = np.random.choice(movie_titles, size=int(len(movie_titles)//test_percentage), replace=False)\n",
    "\n",
    "    test_df = df[df['movie_title'].isin(test_titles)]\n",
    "    train_df = df[~df['movie_title'].isin(test_titles)]\n",
    "    \n",
    "    genres = df.columns[1:27]\n",
    "    features_movie_title = df.columns.drop(genres)\n",
    "    \n",
    "    \n",
    "    #X_train, X_test, y_train, y_test \n",
    "    return train_df[features_movie_title], test_df[features_movie_title], train_df[genres], test_df[genres]"
   ]
  },
  {
   "cell_type": "code",
   "execution_count": null,
   "metadata": {},
   "outputs": [],
   "source": [
    "X_train, X_test, y_train, y_test = split_by_movie(labels_and_featuers, 10)"
   ]
  },
  {
   "cell_type": "code",
   "execution_count": null,
   "metadata": {},
   "outputs": [],
   "source": [
    "from sklearn.ensemble import RandomForestClassifier"
   ]
  },
  {
   "cell_type": "code",
   "execution_count": null,
   "metadata": {},
   "outputs": [],
   "source": [
    "rfc = RandomForestClassifier()"
   ]
  },
  {
   "cell_type": "code",
   "execution_count": null,
   "metadata": {},
   "outputs": [],
   "source": [
    "rfc.fit(X_train, y_train)"
   ]
  },
  {
   "cell_type": "code",
   "execution_count": null,
   "metadata": {},
   "outputs": [],
   "source": []
  },
  {
   "cell_type": "code",
   "execution_count": null,
   "metadata": {},
   "outputs": [],
   "source": [
    "from sklearn.metrics import classification_report"
   ]
  },
  {
   "cell_type": "code",
   "execution_count": null,
   "metadata": {},
   "outputs": [],
   "source": []
  }
 ],
 "metadata": {
  "kernelspec": {
   "display_name": "Python 3",
   "language": "python",
   "name": "python3"
  },
  "language_info": {
   "codemirror_mode": {
    "name": "ipython",
    "version": 3
   },
   "file_extension": ".py",
   "mimetype": "text/x-python",
   "name": "python",
   "nbconvert_exporter": "python",
   "pygments_lexer": "ipython3",
   "version": "3.7.3"
  }
 },
 "nbformat": 4,
 "nbformat_minor": 2
}
